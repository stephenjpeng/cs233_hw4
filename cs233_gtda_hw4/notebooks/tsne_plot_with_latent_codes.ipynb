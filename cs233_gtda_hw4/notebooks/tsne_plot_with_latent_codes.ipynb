{
 "cells": [
  {
   "cell_type": "code",
   "execution_count": 1,
   "metadata": {
    "tags": []
   },
   "outputs": [],
   "source": [
    "import numpy as np\n",
    "import os.path as osp \n",
    "from sklearn.manifold import TSNE   # Students: you can use this to extract the TSNE\n",
    "import sys\n",
    "\n",
    "sys.path.append('../..')\n",
    "from cs233_gtda_hw4.in_out.plotting import plot_2d_embedding_in_grid_greedy_way\n",
    "\n",
    "%load_ext autoreload\n",
    "%autoreload 2"
   ]
  },
  {
   "cell_type": "code",
   "execution_count": 2,
   "metadata": {
    "tags": []
   },
   "outputs": [],
   "source": [
    "random_seed = 42 # Students: use THIS seed \n",
    "                 # IF you use sklearn's TSNE with default parameters."
   ]
  },
  {
   "cell_type": "markdown",
   "metadata": {},
   "source": [
    "## LOAD DATA"
   ]
  },
  {
   "cell_type": "code",
   "execution_count": 12,
   "metadata": {
    "tags": []
   },
   "outputs": [],
   "source": [
    "part_aware_model = True # or True\n",
    "out_n = 1024\n",
    "\n",
    "if part_aware_model:\n",
    "    model_tag = f'part_pc_ae_out{out_n}_'\n",
    "else:\n",
    "    model_tag = f'pc_ae_out{out_n}_'\n",
    "\n",
    "model_tag = 'experiment_drop0.15_bnorm_'"
   ]
  },
  {
   "cell_type": "code",
   "execution_count": 13,
   "metadata": {
    "tags": []
   },
   "outputs": [],
   "source": [
    "## Load latent codes\n",
    "ae_emb_file = f'../data/out/{model_tag}_latent_codes.npz'\n",
    "data = np.load(ae_emb_file) # Students: we assume you used np.savez in the above directory\n",
    "latent_codes = data['latent_codes'] # to save the embeddings\n",
    "test_names = data['test_names']"
   ]
  },
  {
   "cell_type": "code",
   "execution_count": 14,
   "metadata": {
    "tags": []
   },
   "outputs": [],
   "source": [
    "## Load images of test models (Students FIRST unzip the corresponding images.zip)\n",
    "im_files = []\n",
    "top_im_dir = '../data/images'\n",
    "for name in test_names:\n",
    "    im_file = osp.join(top_im_dir, name + '.png')\n",
    "    assert osp.exists(im_file)\n",
    "    im_files.append(im_file)"
   ]
  },
  {
   "cell_type": "code",
   "execution_count": 15,
   "metadata": {
    "tags": []
   },
   "outputs": [],
   "source": [
    "# TODO: Students get the TSNE embedding\n",
    "tsne_lcodes = TSNE(n_components=2, perplexity=15).fit_transform(latent_codes)  # n_components=2, perplexity=15 seems to work well for vanilla"
   ]
  },
  {
   "cell_type": "code",
   "execution_count": 16,
   "metadata": {
    "tags": []
   },
   "outputs": [],
   "source": [
    "# Students feel free to play with the big_dim, small_dim to get different plots.\n",
    "plot_2d_embedding_in_grid_greedy_way(tsne_lcodes, im_files, big_dim=8000, small_dim=100,  # originally 1000, 40\n",
    "                                     save_file=f'../data/out/{model_tag}_test_pc_tsne.png', \n",
    "                                     transparent_pngs=True);"
   ]
  }
 ],
 "metadata": {
  "kernelspec": {
   "display_name": "Python 3 (Local)",
   "language": "python",
   "name": "python3"
  },
  "language_info": {
   "codemirror_mode": {
    "name": "ipython",
    "version": 3
   },
   "file_extension": ".py",
   "mimetype": "text/x-python",
   "name": "python",
   "nbconvert_exporter": "python",
   "pygments_lexer": "ipython3",
   "version": "3.10.13"
  }
 },
 "nbformat": 4,
 "nbformat_minor": 4
}
