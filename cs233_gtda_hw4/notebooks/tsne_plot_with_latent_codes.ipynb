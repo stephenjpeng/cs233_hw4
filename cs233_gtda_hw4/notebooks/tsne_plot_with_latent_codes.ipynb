{
 "cells": [
  {
   "cell_type": "code",
   "execution_count": 9,
   "metadata": {
    "tags": []
   },
   "outputs": [
    {
     "name": "stdout",
     "output_type": "stream",
     "text": [
      "The autoreload extension is already loaded. To reload it, use:\n",
      "  %reload_ext autoreload\n"
     ]
    }
   ],
   "source": [
    "import numpy as np\n",
    "import os.path as osp \n",
    "from sklearn.manifold import TSNE   # Students: you can use this to extract the TSNE\n",
    "import sys\n",
    "\n",
    "sys.path.append('../..')\n",
    "from cs233_gtda_hw4.in_out.plotting import plot_2d_embedding_in_grid_greedy_way\n",
    "\n",
    "%load_ext autoreload\n",
    "%autoreload 2"
   ]
  },
  {
   "cell_type": "code",
   "execution_count": 10,
   "metadata": {
    "tags": []
   },
   "outputs": [],
   "source": [
    "random_seed = 42 # Students: use THIS seed \n",
    "                 # IF you use sklearn's TSNE with default parameters."
   ]
  },
  {
   "cell_type": "markdown",
   "metadata": {},
   "source": [
    "## LOAD DATA"
   ]
  },
  {
   "cell_type": "code",
   "execution_count": 11,
   "metadata": {
    "tags": []
   },
   "outputs": [],
   "source": [
    "part_aware_model = False # or True\n",
    "out_n = 1024\n",
    "\n",
    "if part_aware_model:\n",
    "    model_tag = f'part_pc_ae_out{out_n}_'\n",
    "else:\n",
    "    model_tag = f'pc_ae_out{out_n}_'\n",
    "\n",
    "model_tag = 'pc_ae_out1024_'\n",
    "# model_tag = 'exp_outn256_drop0.0_bnorm_kl1e-05_noisy0.005_cdec0.7_alpha1e-06_kdec1.15_predpts0.0005_predex0.0005_encpts_var_'"
   ]
  },
  {
   "cell_type": "code",
   "execution_count": 12,
   "metadata": {
    "tags": []
   },
   "outputs": [],
   "source": [
    "## Load latent codes\n",
    "ae_emb_file = f'../data/out/{model_tag}_latent_codes.npz'\n",
    "data = np.load(ae_emb_file) # Students: we assume you used np.savez in the above directory\n",
    "latent_codes = data['latent_codes'] # to save the embeddings\n",
    "test_names = data['test_names']"
   ]
  },
  {
   "cell_type": "code",
   "execution_count": 13,
   "metadata": {
    "tags": []
   },
   "outputs": [],
   "source": [
    "## Load images of test models (Students FIRST unzip the corresponding images.zip)\n",
    "im_files = []\n",
    "top_im_dir = '../data/images'\n",
    "for name in test_names:\n",
    "    im_file = osp.join(top_im_dir, name + '.png')\n",
    "    assert osp.exists(im_file)\n",
    "    im_files.append(im_file)"
   ]
  },
  {
   "cell_type": "code",
   "execution_count": 16,
   "metadata": {
    "tags": []
   },
   "outputs": [
    {
     "name": "stderr",
     "output_type": "stream",
     "text": [
      "/home/stephen/anaconda3/lib/python3.9/site-packages/sklearn/manifold/_t_sne.py:800: FutureWarning: The default initialization in TSNE will change from 'random' to 'pca' in 1.2.\n",
      "  warnings.warn(\n",
      "/home/stephen/anaconda3/lib/python3.9/site-packages/sklearn/manifold/_t_sne.py:810: FutureWarning: The default learning rate in TSNE will change from 200.0 to 'auto' in 1.2.\n",
      "  warnings.warn(\n"
     ]
    }
   ],
   "source": [
    "# TODO: Students get the TSNE embedding\n",
    "tsne_lcodes = TSNE(n_components=2).fit_transform(latent_codes)  # n_components=2, perplexity=15 seems to work well for vanilla"
   ]
  },
  {
   "cell_type": "code",
   "execution_count": 17,
   "metadata": {
    "tags": []
   },
   "outputs": [],
   "source": [
    "# Students feel free to play with the big_dim, small_dim to get different plots.\n",
    "plot_2d_embedding_in_grid_greedy_way(tsne_lcodes, im_files, big_dim=1000, small_dim=40,  # originally 1000, 40\n",
    "                                     save_file=f'../data/out/{model_tag}_test_pc_tsne.png', \n",
    "                                     transparent_pngs=True);"
   ]
  }
 ],
 "metadata": {
  "kernelspec": {
   "display_name": "Python 3 (ipykernel)",
   "language": "python",
   "name": "python3"
  },
  "language_info": {
   "codemirror_mode": {
    "name": "ipython",
    "version": 3
   },
   "file_extension": ".py",
   "mimetype": "text/x-python",
   "name": "python",
   "nbconvert_exporter": "python",
   "pygments_lexer": "ipython3",
   "version": "3.9.15"
  }
 },
 "nbformat": 4,
 "nbformat_minor": 4
}
