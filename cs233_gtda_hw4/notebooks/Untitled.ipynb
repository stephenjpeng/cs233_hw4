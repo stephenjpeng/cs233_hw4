{
 "cells": [
  {
   "cell_type": "code",
   "execution_count": 1,
   "id": "8ef89ad2-3d34-4443-b8fb-844c1c111414",
   "metadata": {
    "tags": []
   },
   "outputs": [],
   "source": [
    "import torch"
   ]
  },
  {
   "cell_type": "code",
   "execution_count": 8,
   "id": "f2b9b750-9f9b-4237-8b36-eb55338d4776",
   "metadata": {
    "tags": []
   },
   "outputs": [],
   "source": [
    "B = 128\n",
    "N = 1024\n",
    "d = 3\n",
    "pointclouds = torch.randn(B, N, d)\n",
    "true_labels = torch.randint(3, (B, N))\n",
    "part = 0"
   ]
  },
  {
   "cell_type": "code",
   "execution_count": 13,
   "id": "c0e32040-a2bf-4d08-aecb-b12561c94d32",
   "metadata": {
    "tags": []
   },
   "outputs": [
    {
     "data": {
      "text/plain": [
       "torch.Size([128, 4])"
      ]
     },
     "execution_count": 13,
     "metadata": {},
     "output_type": "execute_result"
    }
   ],
   "source": [
    "torch.vstack([(true_labels==i).max(axis=-1)[0] for i in range(4)]).T.shape"
   ]
  }
 ],
 "metadata": {
  "kernelspec": {
   "display_name": "Python 3 (Local)",
   "language": "python",
   "name": "python3"
  },
  "language_info": {
   "codemirror_mode": {
    "name": "ipython",
    "version": 3
   },
   "file_extension": ".py",
   "mimetype": "text/x-python",
   "name": "python",
   "nbconvert_exporter": "python",
   "pygments_lexer": "ipython3",
   "version": "3.10.13"
  }
 },
 "nbformat": 4,
 "nbformat_minor": 5
}
